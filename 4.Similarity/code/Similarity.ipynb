{
 "cells": [
  {
   "cell_type": "code",
   "execution_count": 1,
   "id": "wooden-bread",
   "metadata": {},
   "outputs": [],
   "source": [
    "# -*- coding: utf-8 -*-\n",
    "# practical 4\n",
    "from IPython.core.interactiveshell import InteractiveShell\n",
    "InteractiveShell.ast_node_interactivity = \"all\"\n",
    "import logging\n",
    "logging.getLogger(\"imported_module\").setLevel(logging.WARNING)\n",
    "\n",
    "import numpy as np\n",
    "import pandas as pd\n",
    "import re, sys, math\n",
    "from nltk.tokenize import word_tokenize\n",
    "from nltk.corpus import stopwords\n",
    "from nltk import pos_tag as pt\n",
    "#from sklearn.feature_extraction.text import TfidfVectorizer\n",
    "from sklearn.metrics.pairwise import cosine_similarity\n",
    "from nltk.corpus import stopwords\n",
    "from nltk import pos_tag\n",
    "from nltk.tokenize import word_tokenize\n",
    "from wordcloud import WordCloud\n",
    "import matplotlib.pyplot as plt\n",
    "from nltk.stem import WordNetLemmatizer as WNL\n",
    "from collections import ChainMap\n",
    "sys.setrecursionlimit(0x100000)\n",
    "from pandas import DataFrame\n",
    "from sklearn.metrics.pairwise import cosine_similarity\n",
    "from sklearn.metrics.pairwise import manhattan_distances"
   ]
  },
  {
   "cell_type": "code",
   "execution_count": 2,
   "id": "ordinary-mainstream",
   "metadata": {},
   "outputs": [],
   "source": [
    "Category = \"Games\"\n",
    "Instances = \"Shooter\", \"RPG\", \"Action\", \"Real-time strategy\", \"Sandbox\""
   ]
  },
  {
   "cell_type": "markdown",
   "id": "legendary-bumper",
   "metadata": {},
   "source": [
    "### Q1 (a)"
   ]
  },
  {
   "cell_type": "code",
   "execution_count": 3,
   "id": "level-bride",
   "metadata": {},
   "outputs": [],
   "source": [
    "ShooterGame = \"Fast\", \"Intense\", \"Reaction\", \"Movement\", \"Tactical\"\n",
    "RPG = \"Slow\", \"Challenge\", \"Story\", \"Combat\", \"Exploration\"\n",
    "Action = \"Fast\", \"Puzzle\", \"Story\", \"Combat\", \"Survival\"\n",
    "Real_timeStrategy = \"Arcade\", \"Story\", \"Tactical\", \"Combat\", \"Turn-based\", \"Planning\"\n",
    "Sandbox = \"Slow\", \"Relaxed\", \"Exploration\", \"Creative\", \"Puzzle\""
   ]
  },
  {
   "cell_type": "code",
   "execution_count": 4,
   "id": "congressional-enterprise",
   "metadata": {},
   "outputs": [],
   "source": [
    "def JaccardDistance(list1, list2):\n",
    "    set1 = set(list1)\n",
    "    set2 = set(list2)\n",
    "    ans = float(len(set1 & set2)) / len(set1 | set2)\n",
    "    return round(1 - ans, 2)\n",
    "\n",
    "ShooterRPG = JaccardDistance(ShooterGame,RPG)\n",
    "ShooterAction = JaccardDistance(ShooterGame,Action)\n",
    "ShooterStrategy = JaccardDistance(ShooterGame,Real_timeStrategy)\n",
    "ShooterSandbox = JaccardDistance(ShooterGame,Sandbox)\n",
    "\n",
    "RPGAction = JaccardDistance(RPG,Action)\n",
    "RPGStrategy = JaccardDistance(RPG,Real_timeStrategy)\n",
    "RPGSandbox = JaccardDistance(RPG,Sandbox)\n",
    "\n",
    "ActionStrategy = JaccardDistance(Action,Real_timeStrategy)\n",
    "ActionSandbox = JaccardDistance(Action,Sandbox)\n",
    "\n",
    "StrategySandbox = JaccardDistance(Real_timeStrategy,Sandbox)\n",
    "\n"
   ]
  },
  {
   "cell_type": "code",
   "execution_count": 5,
   "id": "joined-salad",
   "metadata": {},
   "outputs": [
    {
     "data": {
      "text/plain": [
       "1.0"
      ]
     },
     "execution_count": 5,
     "metadata": {},
     "output_type": "execute_result"
    },
    {
     "data": {
      "text/plain": [
       "0.89"
      ]
     },
     "execution_count": 5,
     "metadata": {},
     "output_type": "execute_result"
    },
    {
     "data": {
      "text/plain": [
       "0.9"
      ]
     },
     "execution_count": 5,
     "metadata": {},
     "output_type": "execute_result"
    },
    {
     "data": {
      "text/plain": [
       "1.0"
      ]
     },
     "execution_count": 5,
     "metadata": {},
     "output_type": "execute_result"
    },
    {
     "data": {
      "text/plain": [
       "0.75"
      ]
     },
     "execution_count": 5,
     "metadata": {},
     "output_type": "execute_result"
    },
    {
     "data": {
      "text/plain": [
       "0.78"
      ]
     },
     "execution_count": 5,
     "metadata": {},
     "output_type": "execute_result"
    },
    {
     "data": {
      "text/plain": [
       "0.75"
      ]
     },
     "execution_count": 5,
     "metadata": {},
     "output_type": "execute_result"
    },
    {
     "data": {
      "text/plain": [
       "0.78"
      ]
     },
     "execution_count": 5,
     "metadata": {},
     "output_type": "execute_result"
    },
    {
     "data": {
      "text/plain": [
       "0.89"
      ]
     },
     "execution_count": 5,
     "metadata": {},
     "output_type": "execute_result"
    },
    {
     "data": {
      "text/plain": [
       "1.0"
      ]
     },
     "execution_count": 5,
     "metadata": {},
     "output_type": "execute_result"
    }
   ],
   "source": [
    "ShooterRPG\n",
    "ShooterAction\n",
    "ShooterStrategy\n",
    "ShooterSandbox\n",
    "RPGAction\n",
    "RPGStrategy\n",
    "RPGSandbox\n",
    "ActionStrategy\n",
    "ActionSandbox\n",
    "StrategySandbox"
   ]
  },
  {
   "cell_type": "code",
   "execution_count": 12,
   "id": "instant-passing",
   "metadata": {},
   "outputs": [],
   "source": [
    "data = [{'ShooterRPG':1.0, 'ShooterAction': 0.89,'ShooterStrategy':0.9, 'ShooterSandbox': 1.0, 'RPGAction': 0.75, 'RPGStrategy':0.78, 'RPGSandbox': 0.75, 'ActionStrategy': 0.78, 'ActionSandbox': 0.89, 'StrategySandbox':1.0}]"
   ]
  },
  {
   "cell_type": "code",
   "execution_count": 13,
   "id": "eligible-group",
   "metadata": {},
   "outputs": [
    {
     "data": {
      "text/html": [
       "<div>\n",
       "<style scoped>\n",
       "    .dataframe tbody tr th:only-of-type {\n",
       "        vertical-align: middle;\n",
       "    }\n",
       "\n",
       "    .dataframe tbody tr th {\n",
       "        vertical-align: top;\n",
       "    }\n",
       "\n",
       "    .dataframe thead th {\n",
       "        text-align: right;\n",
       "    }\n",
       "</style>\n",
       "<table border=\"1\" class=\"dataframe\">\n",
       "  <thead>\n",
       "    <tr style=\"text-align: right;\">\n",
       "      <th></th>\n",
       "      <th>0</th>\n",
       "    </tr>\n",
       "  </thead>\n",
       "  <tbody>\n",
       "    <tr>\n",
       "      <th>ShooterRPG</th>\n",
       "      <td>1.00</td>\n",
       "    </tr>\n",
       "    <tr>\n",
       "      <th>ShooterAction</th>\n",
       "      <td>0.89</td>\n",
       "    </tr>\n",
       "    <tr>\n",
       "      <th>ShooterStrategy</th>\n",
       "      <td>0.90</td>\n",
       "    </tr>\n",
       "    <tr>\n",
       "      <th>ShooterSandbox</th>\n",
       "      <td>1.00</td>\n",
       "    </tr>\n",
       "    <tr>\n",
       "      <th>RPGAction</th>\n",
       "      <td>0.75</td>\n",
       "    </tr>\n",
       "    <tr>\n",
       "      <th>RPGStrategy</th>\n",
       "      <td>0.78</td>\n",
       "    </tr>\n",
       "    <tr>\n",
       "      <th>RPGSandbox</th>\n",
       "      <td>0.75</td>\n",
       "    </tr>\n",
       "    <tr>\n",
       "      <th>ActionStrategy</th>\n",
       "      <td>0.78</td>\n",
       "    </tr>\n",
       "    <tr>\n",
       "      <th>ActionSandbox</th>\n",
       "      <td>0.89</td>\n",
       "    </tr>\n",
       "    <tr>\n",
       "      <th>StrategySandbox</th>\n",
       "      <td>1.00</td>\n",
       "    </tr>\n",
       "  </tbody>\n",
       "</table>\n",
       "</div>"
      ],
      "text/plain": [
       "                    0\n",
       "ShooterRPG       1.00\n",
       "ShooterAction    0.89\n",
       "ShooterStrategy  0.90\n",
       "ShooterSandbox   1.00\n",
       "RPGAction        0.75\n",
       "RPGStrategy      0.78\n",
       "RPGSandbox       0.75\n",
       "ActionStrategy   0.78\n",
       "ActionSandbox    0.89\n",
       "StrategySandbox  1.00"
      ]
     },
     "execution_count": 13,
     "metadata": {},
     "output_type": "execute_result"
    }
   ],
   "source": [
    "df = pd.DataFrame(data)\n",
    "dfT = pd.DataFrame(data).T\n",
    "dfT"
   ]
  },
  {
   "cell_type": "markdown",
   "id": "satisfied-truck",
   "metadata": {},
   "source": [
    "### Q1 (b)"
   ]
  },
  {
   "cell_type": "code",
   "execution_count": 14,
   "id": "impressed-springfield",
   "metadata": {},
   "outputs": [],
   "source": [
    "def TriangleInequality(a, b, c):\n",
    "    if (a + b <= c) or (a + c <= b) or (b + c <= a):\n",
    "        return False\n",
    "    else:\n",
    "        return True"
   ]
  },
  {
   "cell_type": "markdown",
   "id": "crude-penny",
   "metadata": {},
   "source": [
    "###### Testing the Triangle Inequality on our Jaccard Distance values"
   ]
  },
  {
   "cell_type": "code",
   "execution_count": 15,
   "id": "coated-charles",
   "metadata": {},
   "outputs": [
    {
     "data": {
      "text/plain": [
       "True"
      ]
     },
     "execution_count": 15,
     "metadata": {},
     "output_type": "execute_result"
    }
   ],
   "source": [
    "TriangleInequality(ShooterRPG,ShooterAction,ShooterStrategy)"
   ]
  },
  {
   "cell_type": "code",
   "execution_count": 16,
   "id": "entire-audience",
   "metadata": {},
   "outputs": [
    {
     "data": {
      "text/plain": [
       "True"
      ]
     },
     "execution_count": 16,
     "metadata": {},
     "output_type": "execute_result"
    }
   ],
   "source": [
    "TriangleInequality(ShooterSandbox,RPGAction,RPGStrategy)"
   ]
  },
  {
   "cell_type": "code",
   "execution_count": 17,
   "id": "quarterly-hands",
   "metadata": {},
   "outputs": [
    {
     "data": {
      "text/plain": [
       "True"
      ]
     },
     "execution_count": 17,
     "metadata": {},
     "output_type": "execute_result"
    }
   ],
   "source": [
    "TriangleInequality(RPGSandbox,ActionStrategy,ActionSandbox)"
   ]
  },
  {
   "cell_type": "code",
   "execution_count": 18,
   "id": "civic-sodium",
   "metadata": {},
   "outputs": [
    {
     "data": {
      "text/plain": [
       "True"
      ]
     },
     "execution_count": 18,
     "metadata": {},
     "output_type": "execute_result"
    }
   ],
   "source": [
    "TriangleInequality(ShooterRPG,StrategySandbox,ActionSandbox)"
   ]
  },
  {
   "cell_type": "code",
   "execution_count": 19,
   "id": "bearing-sampling",
   "metadata": {},
   "outputs": [
    {
     "data": {
      "text/plain": [
       "True"
      ]
     },
     "execution_count": 19,
     "metadata": {},
     "output_type": "execute_result"
    }
   ],
   "source": [
    "TriangleInequality(RPGSandbox,ShooterSandbox,ActionSandbox)"
   ]
  },
  {
   "cell_type": "code",
   "execution_count": 20,
   "id": "digital-original",
   "metadata": {},
   "outputs": [
    {
     "data": {
      "text/plain": [
       "True"
      ]
     },
     "execution_count": 20,
     "metadata": {},
     "output_type": "execute_result"
    }
   ],
   "source": [
    "TriangleInequality(ShooterSandbox, ActionSandbox, RPGStrategy)"
   ]
  },
  {
   "cell_type": "markdown",
   "id": "fourth-leonard",
   "metadata": {},
   "source": [
    "### Q1 (c)"
   ]
  },
  {
   "cell_type": "code",
   "execution_count": null,
   "id": "institutional-cooling",
   "metadata": {},
   "outputs": [],
   "source": [
    "def dice_coefficient(a, b):\n",
    "    \"\"\"dice coefficient 2nt/(na + nb).\"\"\"\n",
    "    if not len(a) or not len(b): return 0.0\n",
    "    if len(a) == 1:  a=a+u'.'\n",
    "    if len(b) == 1:  b=b+u'.'\n",
    "\n",
    "    a_bigram_list=[]\n",
    "    for i in range(len(a)-1):\n",
    "      a_bigram_list.append(a[i:i+2])\n",
    "    b_bigram_list=[]\n",
    "    for i in range(len(b)-1):\n",
    "      b_bigram_list.append(b[i:i+2])\n",
    "\n",
    "    a_bigrams = set(a_bigram_list)\n",
    "    b_bigrams = set(b_bigram_list)\n",
    "    overlap = len(a_bigrams & b_bigrams)\n",
    "    dice_coeff = overlap * 2.0/(len(a_bigrams) + len(b_bigrams))\n",
    "    return dice_coeff"
   ]
  },
  {
   "cell_type": "code",
   "execution_count": null,
   "id": "vietnamese-anniversary",
   "metadata": {},
   "outputs": [],
   "source": [
    "ShooterGame2 = \"Fast, Intense, Reaction, Movement, Tactical\"\n",
    "RPG2 = \"Slow, Challenge, Story, Combat, Exploration\"\n",
    "Action2 = \"Fast, Puzzle, Story, Combat, Survival\"\n",
    "Real_timeStrategy2 = \"Arcade, Story, Tactical, Combat, Turn-based, Planning\"\n",
    "Sandbox2 = \"Slow, Relaxed, Exploration, Creative, Puzzle\""
   ]
  },
  {
   "cell_type": "code",
   "execution_count": null,
   "id": "printable-skirt",
   "metadata": {},
   "outputs": [],
   "source": [
    "ShooterRPGDice = dice_coefficient(ShooterGame2,RPG2)\n",
    "ShooterActionDice = dice_coefficient(ShooterGame2,Action2)\n",
    "ShooterStrategyDice = dice_coefficient(ShooterGame2,Real_timeStrategy2)\n",
    "ShooterSandboxDice = dice_coefficient(ShooterGame2,Sandbox2)\n",
    "RPGActionDice = dice_coefficient(RPG2,Action2)\n",
    "RPGStrategyDice = dice_coefficient(RPG2,Real_timeStrategy2)\n",
    "RPGSandboxDice = dice_coefficient(RPG2,Sandbox2)\n",
    "ActionStrategyDice = dice_coefficient(Action2,Real_timeStrategy2)\n",
    "ActionSandboxDice = dice_coefficient(Action2,Sandbox2)\n",
    "StrategySandboxDice = dice_coefficient(Real_timeStrategy2,Sandbox2)"
   ]
  },
  {
   "cell_type": "code",
   "execution_count": null,
   "id": "tough-destruction",
   "metadata": {},
   "outputs": [],
   "source": [
    "print(\"ShooterRPGDice:\",round(ShooterRPGDice,2))\n",
    "print(\"ShooterActionDice:\",round(ShooterActionDice,2))\n",
    "print(\"ShooterStrategyDice:\",round(ShooterStrategyDice,2))\n",
    "print(\"ShooterSandboxDice:\",round(ShooterSandboxDice,2))\n",
    "print(\"RPGActionDice:\",round(RPGActionDice,2))\n",
    "print(\"RPGStrategyDice:\",round(RPGStrategyDice,2))\n",
    "print(\"RPGSandboxDice:\",round(RPGSandboxDice,2))\n",
    "print(\"ActionStrategyDice:\",round(ActionStrategyDice,2))\n",
    "print(\"ActionSandboxDice:\",round(ActionSandboxDice,2))\n",
    "print(\"StrategySandboxDice:\",round(StrategySandboxDice,2))"
   ]
  },
  {
   "cell_type": "code",
   "execution_count": null,
   "id": "least-haiti",
   "metadata": {},
   "outputs": [],
   "source": [
    "test = dice_coefficient(Sandbox2,Sandbox2)\n",
    "test"
   ]
  },
  {
   "cell_type": "code",
   "execution_count": null,
   "id": "senior-vector",
   "metadata": {},
   "outputs": [],
   "source": [
    "### Q2 (a)"
   ]
  },
  {
   "cell_type": "code",
   "execution_count": null,
   "id": "quick-petersburg",
   "metadata": {},
   "outputs": [],
   "source": [
    "import math\n",
    "from collections import Counter\n",
    "\n",
    "vector_dict = {}                                       #Dict that will hold tf-idf matrix\n",
    "\n",
    "#Just loads in all the documents\n",
    "def load_docs():\n",
    "    print(\"Loading docs...\")\n",
    "    doc1=('d1', \"Here's What Prince Harry and Meghan Markle's Wedding Day Was Like\")\n",
    "    doc2=('d2', \"Prince Harry and Meghan had just one official ceremony says Justin Welby\")\n",
    "    doc3=('d3', \"Meghan and Harry finally admit there was no secret backyard wedding\")\n",
    "    doc4=('d4', \"Kim Kardashian and Kanye West Reenact Their Wedding Vows in Balenciaga Haute Couture\")\n",
    "    doc5=('d5', \"Kim Kardashian and Kanye West marry in Florence\")\n",
    "    doc6=('d6', \"Kim Kardashian and Kanye West: A Look Back at Their 2014 Wedding\")\n",
    "    \n",
    "    return [doc1, doc2,doc3,doc4,doc5,doc6]\n",
    "\n",
    "#Computes TF for words in each doc, DF for all features in all docs; finally whole Tf-IDF matrix\n",
    "def process_docs(all_dcs):\n",
    " stop_words = set(stopwords.words('english'))\n",
    " all_words = []                                         #list to collect all unique words in each docs\n",
    " counts_dict = {}                                       #dict to collect doc data, word-counts and word-lists\n",
    " for doc in all_dcs:\n",
    "    words = [x.lower() for x in doc[1].split() if x not in stop_words]\n",
    "    words_counted = Counter(words)                      #counts words in a doc\n",
    "    unique_words = list(words_counted.keys())           #list of the unique words in the doc\n",
    "    counts_dict[doc[0]] = words_counted                 #make dict entry {'d1' : {'a': 1, 'b':6}}\n",
    "    all_words = all_words + unique_words                #collect all unique words from each doc; bit hacky\n",
    " n = len(counts_dict)                                   #number of documents is no of entries in dict\n",
    " df_counts = Counter(all_words)                         #DF of all unique words from each doc, counted\n",
    " compute_vector_len(counts_dict, n, df_counts)          #computes TF-IDF for all words in all docs\n",
    "\n",
    "\n",
    "#computes TF-IDF for all words in all docs\n",
    "def compute_vector_len(doc_dict, no, df_counts):\n",
    "  global vector_dict\n",
    "  for doc_name in doc_dict:                              #for each doc\n",
    "    doc_words = doc_dict[doc_name].keys()                #get all the unique words in the doc\n",
    "    wd_tfidf_scores = {}\n",
    "    for wd in list(set(doc_words)):                      #for each word in the doc\n",
    "        wds_cts = doc_dict[doc_name]                     #get the word-counts-dict for the doc\n",
    "        wd_tf_idf = wds_cts[wd] * math.log(no / df_counts[wd], 10)   #compute TF-IDF\n",
    "        wd_tfidf_scores[wd] = round(wd_tf_idf, 4)        #store Tf-IDf scores with word\n",
    "    vector_dict[doc_name] = wd_tfidf_scores              #store all Tf-IDf scores for words with doc_name\n",
    "\n",
    "\n",
    "def get_cosine(text1, text2):\n",
    "     vec1 = vector_dict[text1]\n",
    "     vec2 = vector_dict[text2]\n",
    "     intersection = set(vec1.keys()) & set(vec2.keys())\n",
    "     #NB strictly, this is not really correct, needs vector of all features with zeros\n",
    "     numerator = sum([vec1[x] * vec2[x] for x in intersection])\n",
    "     sum1 = sum([vec1[x]**2 for x in vec1.keys()])\n",
    "     sum2 = sum([vec2[x]**2 for x in vec2.keys()])\n",
    "     denominator = math.sqrt(sum1) * math.sqrt(sum2)\n",
    "     if not denominator:\n",
    "        return 0.0\n",
    "     else:\n",
    "        return round(float(numerator) / denominator, 3)\n",
    "\n",
    "\n",
    "\n",
    "#RUN THE DEFINED FNS\n",
    "\n",
    "all_docs = load_docs()\n",
    "process_docs(all_docs)\n",
    "vector_dict['q'] = {'west:': 0.7782, 'kanye': 0.301, 'look': 0.7782, 'kim': 0.301, 'back': 0.7782, 'kardashian': 0.301, 'a': 0.7782, 'their': 0.4771, '2014': 0.7782, 'wedding': 0.1761}\n",
    "\n",
    "for keys,values in vector_dict.items(): print(keys, values)\n",
    "\n",
    "text1 = 'd5'\n",
    "text2 = 'q'\n",
    "cosine = get_cosine(text1, text2)\n",
    "print('Cosine:', cosine)"
   ]
  },
  {
   "cell_type": "code",
   "execution_count": null,
   "id": "sufficient-basin",
   "metadata": {},
   "outputs": [],
   "source": [
    "array1=['wedding', 0.1761, 'prince', 0.4771, \"markle's\", 0.7782, 'day', 0.7782, 'what', 0.7782, 'meghan', 0.301, 'harry', 0.301, 'was', 0.7782, 'like', 0.7782, \"here's\", 0.7782]\n",
    "array2=['prince', 0.4771, 'official', 0.7782, 'ceremony', 0.7782, 'says', 0.7782, 'meghan', 0.301, 'harry', 0.301, 'one', 0.7782, 'justin', 0.7782, 'welby', 0.7782]\n",
    "doc3=\"Meghan and Harry finally admit there was no secret backyard wedding\"\n",
    "doc4=\"Kim Kardashian and Kanye West Reenact Their Wedding Vows in Balenciaga Haute Couture\"\n",
    "doc5=\"Kim Kardashian and Kanye West marry in Florence\"\n",
    "doc6=\"Kim Kardashian and Kanye West: A Look Back at Their 2014 Wedding\""
   ]
  },
  {
   "cell_type": "code",
   "execution_count": null,
   "id": "coral-importance",
   "metadata": {},
   "outputs": [],
   "source": [
    "doc1=\"Here's What Prince Harry and Meghan Markle's Wedding Day Was Like\"\n",
    "doc2=\"Prince Harry and Meghan had just one official ceremony says Justin Welby\"\n",
    "doc3=\"Meghan and Harry finally admit there was no secret backyard wedding\"\n",
    "doc4=\"Kim Kardashian and Kanye West Reenact Their Wedding Vows in Balenciaga Haute Couture\"\n",
    "doc5=\"Kim Kardashian and Kanye West marry in Florence\"\n",
    "doc6=\"Kim Kardashian and Kanye West: A Look Back at Their 2014 Wedding\""
   ]
  },
  {
   "cell_type": "code",
   "execution_count": null,
   "id": "short-nancy",
   "metadata": {},
   "outputs": [],
   "source": [
    "corpus = [doc5, doc6]"
   ]
  },
  {
   "cell_type": "code",
   "execution_count": null,
   "id": "warming-steel",
   "metadata": {},
   "outputs": [],
   "source": [
    "#see:- https://kanoki.org/2018/12/27/text-matching-cosine-similarity/\n",
    "\n",
    "from sklearn.feature_extraction.text import TfidfVectorizer\n",
    "\n",
    "vectorizer = TfidfVectorizer()\n",
    "trsfm=vectorizer.fit_transform(corpus)\n",
    "pd.DataFrame(trsfm.toarray(),columns=vectorizer.get_feature_names(),index=['t_doc','m_doc'])"
   ]
  },
  {
   "cell_type": "code",
   "execution_count": null,
   "id": "framed-pepper",
   "metadata": {},
   "outputs": [],
   "source": [
    "cosine_similarity(trsfm[0:1], trsfm)"
   ]
  },
  {
   "cell_type": "code",
   "execution_count": null,
   "id": "focal-reward",
   "metadata": {},
   "outputs": [],
   "source": [
    "manhattan_distances(trsfm[0:1], trsfm)"
   ]
  },
  {
   "cell_type": "code",
   "execution_count": null,
   "id": "employed-defeat",
   "metadata": {},
   "outputs": [],
   "source": []
  },
  {
   "cell_type": "code",
   "execution_count": null,
   "id": "capable-stanley",
   "metadata": {},
   "outputs": [],
   "source": []
  }
 ],
 "metadata": {
  "kernelspec": {
   "display_name": "Python 3",
   "language": "python",
   "name": "python3"
  },
  "language_info": {
   "codemirror_mode": {
    "name": "ipython",
    "version": 3
   },
   "file_extension": ".py",
   "mimetype": "text/x-python",
   "name": "python",
   "nbconvert_exporter": "python",
   "pygments_lexer": "ipython3",
   "version": "3.8.8"
  }
 },
 "nbformat": 4,
 "nbformat_minor": 5
}
