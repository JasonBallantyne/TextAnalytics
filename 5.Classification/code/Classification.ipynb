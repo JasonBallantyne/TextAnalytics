{
 "cells": [
  {
   "cell_type": "markdown",
   "id": "functional-executive",
   "metadata": {},
   "source": [
    "#### Q1"
   ]
  },
  {
   "cell_type": "code",
   "execution_count": 1,
   "id": "integral-cookbook",
   "metadata": {},
   "outputs": [
    {
     "name": "stdout",
     "output_type": "stream",
     "text": [
      "Train set: 132\n",
      "Test set: 17\n",
      "> predicted='Iris-setosa', actual='Iris-setosa'\n",
      "> predicted='Iris-setosa', actual='Iris-setosa'\n",
      "> predicted='Iris-setosa', actual='Iris-setosa'\n",
      "> predicted='Iris-setosa', actual='Iris-setosa'\n",
      "> predicted='Iris-setosa', actual='Iris-setosa'\n",
      "> predicted='Iris-setosa', actual='Iris-setosa'\n",
      "> predicted='Iris-versicolor', actual='Iris-versicolor'\n",
      "> predicted='Iris-versicolor', actual='Iris-versicolor'\n",
      "> predicted='Iris-versicolor', actual='Iris-versicolor'\n",
      "> predicted='Iris-virginica', actual='Iris-virginica'\n",
      "> predicted='Iris-versicolor', actual='Iris-virginica'\n",
      "> predicted='Iris-virginica', actual='Iris-virginica'\n",
      "> predicted='Iris-virginica', actual='Iris-virginica'\n",
      "> predicted='Iris-virginica', actual='Iris-virginica'\n",
      "> predicted='Iris-virginica', actual='Iris-virginica'\n",
      "> predicted='Iris-versicolor', actual='Iris-virginica'\n",
      "> predicted='Iris-virginica', actual='Iris-virginica'\n",
      "Accuracy: 88.23529411764706%\n"
     ]
    }
   ],
   "source": [
    "# Example of kNN implemented from Scratch in Python\n",
    "# By Jason Brownlee\n",
    "#http://machinelearningmastery.com/tutorial-to-implement-k-nearest-neighbors-in-python-from-scratch/\n",
    "\n",
    "import csv\n",
    "import random\n",
    "import math\n",
    "import operator\n",
    "import pandas as pd\n",
    "import matplotlib.pyplot as plt\n",
    "\n",
    "def loadDataset(filename, split, trainingSet=[] , testSet=[]):\n",
    "    with open(filename, 'r') as csvfile:\n",
    "        lines = csv.reader(csvfile)\n",
    "        dataset = list(lines)\n",
    "        for x in range(len(dataset)-1):\n",
    "            for y in range(4):\n",
    "                dataset[x][y] = float(dataset[x][y])\n",
    "            if random.random() < split:\n",
    "                trainingSet.append(dataset[x])\n",
    "            else:\n",
    "                testSet.append(dataset[x])\n",
    "\n",
    "\n",
    "def euclideanDistance(instance1, instance2, length):\n",
    "    distance = 0\n",
    "    for x in range(length):\n",
    "        distance += pow((instance1[x] - instance2[x]), 2)\n",
    "    return math.sqrt(distance)\n",
    "\n",
    "def getNeighbors(trainingSet, testInstance, k):\n",
    "    distances = []\n",
    "    length = len(testInstance)-1\n",
    "    for x in range(len(trainingSet)):\n",
    "        dist = euclideanDistance(testInstance, trainingSet[x], length)\n",
    "        distances.append((trainingSet[x], dist))\n",
    "    distances.sort(key=operator.itemgetter(1))\n",
    "    neighbors = []\n",
    "    for x in range(k):\n",
    "        neighbors.append(distances[x][0])\n",
    "    return neighbors\n",
    "\n",
    "def getResponse(neighbors):\n",
    "    classVotes = {}\n",
    "    for x in range(len(neighbors)):\n",
    "        response = neighbors[x][-1]\n",
    "        if response in classVotes:\n",
    "            classVotes[response] += 1\n",
    "        else:\n",
    "            classVotes[response] = 1\n",
    "    sortedVotes = sorted(classVotes.items(), key=operator.itemgetter(1), reverse=True)\n",
    "    return sortedVotes[0][0]\n",
    "\n",
    "def getAccuracy(testSet, predictions):\n",
    "    correct = 0\n",
    "    for x in range(len(testSet)):\n",
    "        if testSet[x][-1] == predictions[x]:\n",
    "            correct += 1\n",
    "    return (correct/float(len(testSet))) * 100.0\n",
    "\n",
    "def main():\n",
    "    # prepare data\n",
    "    trainingSet=[]\n",
    "    testSet=[]\n",
    "    split = 0.9\n",
    "    loadDataset('iris.csv', split, trainingSet, testSet)\n",
    "    print('Train set: ' + repr(len(trainingSet)))\n",
    "    print('Test set: ' + repr(len(testSet)))\n",
    "    # generate predictions\n",
    "    predictions=[]\n",
    "    k = 45\n",
    "    for x in range(len(testSet)):\n",
    "        neighbors = getNeighbors(trainingSet, testSet[x], k)\n",
    "        result = getResponse(neighbors)\n",
    "        predictions.append(result)\n",
    "        print('> predicted=' + repr(result) + ', actual=' + repr(testSet[x][-1]))\n",
    "    accuracy = getAccuracy(testSet, predictions)\n",
    "    print('Accuracy: ' + repr(accuracy) + '%')\n",
    "\n",
    "main()\n"
   ]
  },
  {
   "cell_type": "markdown",
   "id": "responsible-newfoundland",
   "metadata": {},
   "source": [
    "### Part (i)"
   ]
  },
  {
   "cell_type": "code",
   "execution_count": 2,
   "id": "liberal-expense",
   "metadata": {},
   "outputs": [
    {
     "data": {
      "text/html": [
       "<div>\n",
       "<style scoped>\n",
       "    .dataframe tbody tr th:only-of-type {\n",
       "        vertical-align: middle;\n",
       "    }\n",
       "\n",
       "    .dataframe tbody tr th {\n",
       "        vertical-align: top;\n",
       "    }\n",
       "\n",
       "    .dataframe thead th {\n",
       "        text-align: right;\n",
       "    }\n",
       "</style>\n",
       "<table border=\"1\" class=\"dataframe\">\n",
       "  <thead>\n",
       "    <tr style=\"text-align: right;\">\n",
       "      <th></th>\n",
       "      <th>Split</th>\n",
       "      <th>Accuracy in %</th>\n",
       "    </tr>\n",
       "  </thead>\n",
       "  <tbody>\n",
       "    <tr>\n",
       "      <th>0</th>\n",
       "      <td>0.10</td>\n",
       "      <td>82.84</td>\n",
       "    </tr>\n",
       "    <tr>\n",
       "      <th>1</th>\n",
       "      <td>0.35</td>\n",
       "      <td>91.21</td>\n",
       "    </tr>\n",
       "    <tr>\n",
       "      <th>2</th>\n",
       "      <td>0.55</td>\n",
       "      <td>94.81</td>\n",
       "    </tr>\n",
       "    <tr>\n",
       "      <th>3</th>\n",
       "      <td>0.70</td>\n",
       "      <td>95.83</td>\n",
       "    </tr>\n",
       "    <tr>\n",
       "      <th>4</th>\n",
       "      <td>0.85</td>\n",
       "      <td>94.44</td>\n",
       "    </tr>\n",
       "  </tbody>\n",
       "</table>\n",
       "</div>"
      ],
      "text/plain": [
       "  Split  Accuracy in %\n",
       "0  0.10          82.84\n",
       "1  0.35          91.21\n",
       "2  0.55          94.81\n",
       "3  0.70          95.83\n",
       "4  0.85          94.44"
      ]
     },
     "execution_count": 2,
     "metadata": {},
     "output_type": "execute_result"
    }
   ],
   "source": [
    "\n",
    "Splits = [['0.10', 82.84], ['0.35', 91.21], ['0.55', 94.81], ['0.70', 95.83], ['0.85', 94.44]]\n",
    " \n",
    "# Create the pandas DataFrame\n",
    "k2_df = pd.DataFrame(Splits, columns = ['Split', 'Accuracy in %'])\n",
    " \n",
    "# print dataframe.\n",
    "k2_df"
   ]
  },
  {
   "cell_type": "code",
   "execution_count": 3,
   "id": "fancy-brief",
   "metadata": {},
   "outputs": [
    {
     "data": {
      "image/png": "[encoded data removed]",
      "text/plain": [
       "<Figure size 432x288 with 1 Axes>"
      ]
     },
     "metadata": {
      "needs_background": "light"
     },
     "output_type": "display_data"
    }
   ],
   "source": [
    "# Function to add labels to the grouped barcharts\n",
    "def addlabels(x,y):\n",
    "    for i in range(len(x)):\n",
    "        plt.text(i, y[i]//2,y[i], ha = 'center',\n",
    "                  bbox = dict(facecolor = 'white', alpha = .5))\n",
    "\n",
    "\n",
    "New_Colors = ['green','blue','purple','brown','teal']\n",
    "plt.bar(k2_df['Split'], k2_df['Accuracy in %'], color=New_Colors)\n",
    "plt.title('Accuracy where nearest neighbour is 2', fontsize=14)\n",
    "plt.xlabel('Training/Test Splits', fontsize=14)\n",
    "plt.ylabel('Accuracy in %', fontsize=14)\n",
    "plt.grid(False)\n",
    "addlabels(k2_df['Split'], k2_df['Accuracy in %'])\n",
    "plt.show()"
   ]
  },
  {
   "cell_type": "markdown",
   "id": "falling-schedule",
   "metadata": {},
   "source": [
    "### Part (ii)"
   ]
  },
  {
   "cell_type": "code",
   "execution_count": 4,
   "id": "rolled-citation",
   "metadata": {},
   "outputs": [
    {
     "data": {
      "text/html": [
       "<div>\n",
       "<style scoped>\n",
       "    .dataframe tbody tr th:only-of-type {\n",
       "        vertical-align: middle;\n",
       "    }\n",
       "\n",
       "    .dataframe tbody tr th {\n",
       "        vertical-align: top;\n",
       "    }\n",
       "\n",
       "    .dataframe thead th {\n",
       "        text-align: right;\n",
       "    }\n",
       "</style>\n",
       "<table border=\"1\" class=\"dataframe\">\n",
       "  <thead>\n",
       "    <tr style=\"text-align: right;\">\n",
       "      <th></th>\n",
       "      <th>K Scores</th>\n",
       "      <th>Accuracy in %</th>\n",
       "    </tr>\n",
       "  </thead>\n",
       "  <tbody>\n",
       "    <tr>\n",
       "      <th>0</th>\n",
       "      <td>2</td>\n",
       "      <td>95.65</td>\n",
       "    </tr>\n",
       "    <tr>\n",
       "      <th>1</th>\n",
       "      <td>4</td>\n",
       "      <td>100.00</td>\n",
       "    </tr>\n",
       "    <tr>\n",
       "      <th>2</th>\n",
       "      <td>8</td>\n",
       "      <td>100.00</td>\n",
       "    </tr>\n",
       "    <tr>\n",
       "      <th>3</th>\n",
       "      <td>12</td>\n",
       "      <td>100.00</td>\n",
       "    </tr>\n",
       "    <tr>\n",
       "      <th>4</th>\n",
       "      <td>18</td>\n",
       "      <td>100.00</td>\n",
       "    </tr>\n",
       "    <tr>\n",
       "      <th>5</th>\n",
       "      <td>23</td>\n",
       "      <td>94.12</td>\n",
       "    </tr>\n",
       "    <tr>\n",
       "      <th>6</th>\n",
       "      <td>28</td>\n",
       "      <td>94.12</td>\n",
       "    </tr>\n",
       "    <tr>\n",
       "      <th>7</th>\n",
       "      <td>32</td>\n",
       "      <td>92.00</td>\n",
       "    </tr>\n",
       "    <tr>\n",
       "      <th>8</th>\n",
       "      <td>38</td>\n",
       "      <td>94.44</td>\n",
       "    </tr>\n",
       "    <tr>\n",
       "      <th>9</th>\n",
       "      <td>45</td>\n",
       "      <td>84.21</td>\n",
       "    </tr>\n",
       "  </tbody>\n",
       "</table>\n",
       "</div>"
      ],
      "text/plain": [
       "  K Scores  Accuracy in %\n",
       "0        2          95.65\n",
       "1        4         100.00\n",
       "2        8         100.00\n",
       "3       12         100.00\n",
       "4       18         100.00\n",
       "5       23          94.12\n",
       "6       28          94.12\n",
       "7       32          92.00\n",
       "8       38          94.44\n",
       "9       45          84.21"
      ]
     },
     "execution_count": 4,
     "metadata": {},
     "output_type": "execute_result"
    }
   ],
   "source": [
    "K_Scores = [['2', 95.65], ['4', 100], ['8', 100], ['12', 100], ['18', 100], ['23', 94.12], ['28', 94.12], ['32', 92], ['38', 94.44], ['45', 84.21]]\n",
    "\n",
    "# Create the pandas DataFrame\n",
    "K_scores_df = pd.DataFrame(K_Scores, columns = ['K Scores', 'Accuracy in %'])\n",
    " \n",
    "# print dataframe.\n",
    "K_scores_df"
   ]
  },
  {
   "cell_type": "code",
   "execution_count": 5,
   "id": "protecting-prize",
   "metadata": {},
   "outputs": [
    {
     "data": {
      "image/png": "[encoded data removed]",
      "text/plain": [
       "<Figure size 432x288 with 1 Axes>"
      ]
     },
     "metadata": {
      "needs_background": "light"
     },
     "output_type": "display_data"
    }
   ],
   "source": [
    "# Function to add labels to the grouped barcharts\n",
    "def addlabels(x,y):\n",
    "    for i in range(len(x)):\n",
    "        plt.text(i, y[i]//2,y[i], ha = 'center',\n",
    "                  bbox = dict(facecolor = 'white', alpha = .5))\n",
    "\n",
    "\n",
    "# New_Colors = ['green','blue','purple','brown','teal']\n",
    "plt.plot(K_scores_df['K Scores'], K_scores_df['Accuracy in %'],'-o',color='#1184e8')\n",
    "plt.title('Accuracy while adjusting the training/test splits', fontsize=14)\n",
    "plt.xlabel('Nearest Neighbour Size', fontsize=14)\n",
    "plt.ylabel('Accuracy in %', fontsize=14)\n",
    "plt.grid(False)\n",
    "\n",
    "plt.show()"
   ]
  },
  {
   "cell_type": "markdown",
   "id": "retained-partner",
   "metadata": {},
   "source": [
    "#### Q2"
   ]
  },
  {
   "cell_type": "code",
   "execution_count": 6,
   "id": "alternate-wednesday",
   "metadata": {},
   "outputs": [
    {
     "name": "stdout",
     "output_type": "stream",
     "text": [
      "Mark is: male\n",
      "Precilla is: female\n",
      "Most Informative Features\n",
      "             last_letter = 'a'            female : male   =     35.8 : 1.0\n",
      "             last_letter = 'k'              male : female =     30.6 : 1.0\n",
      "             last_letter = 'f'              male : female =     15.9 : 1.0\n",
      "             last_letter = 'p'              male : female =     11.8 : 1.0\n",
      "             last_letter = 'd'              male : female =      9.9 : 1.0\n",
      "0.77\n"
     ]
    }
   ],
   "source": [
    "import nltk\n",
    "from nltk.corpus import names\n",
    "import random\n",
    "\n",
    "def gender_features(word):\n",
    "    return {'last_letter': word[-1]}\n",
    "# gender_features('Shrek') = {'last_letter': 'k'}\n",
    "\n",
    "def first_last_letter(word):\n",
    "    return {'first_letter': word[0:1], 'last_letter' : word[-1:]}\n",
    "\n",
    "male_names = [(name, 'male') for name in names.words('male.txt')]\n",
    "female_names = [(name, 'female') for name in names.words('female.txt')]\n",
    "\n",
    "labeled_names = male_names + female_names\n",
    "random.shuffle(labeled_names)\n",
    "featuresets = [(gender_features(n), gender) for (n, gender) in labeled_names]\n",
    "#entries are    ({'last_letter': 'g'}, 'male')\n",
    "train_set, test_set = featuresets[500:], featuresets[:500]\n",
    "\n",
    "classifier = nltk.NaiveBayesClassifier.train(train_set)\n",
    "\n",
    "ans1 = classifier.classify(gender_features('Mark'))\n",
    "ans2 = classifier.classify(gender_features('Precilla'))\n",
    "\n",
    "print(\"Mark is:\", ans1)\n",
    "print(\"Precilla is:\", ans2)\n",
    "\n",
    "\n",
    "classifier.show_most_informative_features(5)\n",
    "print(nltk.classify.accuracy(classifier, test_set))"
   ]
  },
  {
   "cell_type": "code",
   "execution_count": 49,
   "id": "welcome-effects",
   "metadata": {},
   "outputs": [
    {
     "name": "stdout",
     "output_type": "stream",
     "text": [
      "------ Last letter ------\n",
      "Anthony is: female\n",
      "Garret is: male\n",
      "Cassey is: female\n",
      "Susanne is: female\n",
      "Most Informative Features\n",
      "             last_letter = 'a'            female : male   =     36.9 : 1.0\n",
      "             last_letter = 'k'              male : female =     32.3 : 1.0\n",
      "             last_letter = 'f'              male : female =     16.0 : 1.0\n",
      "             last_letter = 'p'              male : female =     11.9 : 1.0\n",
      "             last_letter = 'd'              male : female =     10.0 : 1.0\n",
      "The accuracy is: 0.75\n",
      "------ Middle character ------\n",
      "Anthony is: female\n",
      "Garret is: female\n",
      "Cassey is: female\n",
      "Susanne is: female\n",
      "Most Informative Features\n",
      "        Middle Character = 'lm'             male : female =     11.6 : 1.0\n",
      "        Middle Character = 'nr'             male : female =     10.5 : 1.0\n",
      "        Middle Character = 'ho'             male : female =      7.2 : 1.0\n",
      "        Middle Character = 'va'             male : female =      7.2 : 1.0\n",
      "        Middle Character = 'el'           female : male   =      6.2 : 1.0\n",
      "The accuracy is: 0.678\n"
     ]
    }
   ],
   "source": [
    "#question 2\n",
    "import nltk\n",
    "from nltk.corpus import names\n",
    "import random\n",
    "\n",
    "def gender_features(word):\n",
    "    return {'last_letter': word[-1]}\n",
    "# gender_features('Shrek') = {'last_letter': 'k'}\n",
    "\n",
    "def middle_character(word):\n",
    "    \"\"\"If the length of the string is odd return the middle character \n",
    "    and return the middle two characters if the string length is even\"\"\"\n",
    "    return {'Middle Character': word[(len(word)-1)//2:(len(word)+2)//2]}\n",
    "\n",
    "male_names = [(name, 'male') for name in names.words('male.txt')]\n",
    "female_names = [(name, 'female') for name in names.words('female.txt')]\n",
    "labeled_names = male_names + female_names\n",
    "random.shuffle(labeled_names)\n",
    "res_accuracy = []\n",
    "\n",
    "print(\"------ Last letter ------\")\n",
    "featuresets = [(gender_features(n), gender) for (n, gender) in labeled_names]\n",
    "train_set, test_set = featuresets[500:], featuresets[:500]\n",
    "classifier = nltk.NaiveBayesClassifier.train(train_set)\n",
    "\n",
    "ans1 = classifier.classify(gender_features('Anthony'))\n",
    "ans2 = classifier.classify(gender_features('Garret'))\n",
    "ans3 = classifier.classify(gender_features('Cassey'))\n",
    "ans4 = classifier.classify(middle_character('Susanne'))\n",
    "print(\"Anthony is:\", ans1)\n",
    "print(\"Garret is:\", ans2)\n",
    "print(\"Cassey is:\", ans3)\n",
    "print(\"Susanne is:\", ans4)\n",
    "\n",
    "classifier.show_most_informative_features(5)\n",
    "print(\"The accuracy is:\", nltk.classify.accuracy(classifier, test_set))\n",
    "res_accuracy.append(nltk.classify.accuracy(classifier, test_set))\n",
    "\n",
    "print(\"------ Middle character ------\")\n",
    "featuresets_middle_char = [(middle_character(n), gender) for (n, gender) in labeled_names]\n",
    "train_set, test_set = featuresets_middle_char[500:], featuresets_middle_char[:500]\n",
    "classifier = nltk.NaiveBayesClassifier.train(train_set)\n",
    "\n",
    "ans1 = classifier.classify(middle_character('Anthony'))\n",
    "ans2 = classifier.classify(middle_character('Garret'))\n",
    "ans3 = classifier.classify(middle_character('Cassey'))\n",
    "ans4 = classifier.classify(middle_character('Susanne'))\n",
    "print(\"Anthony is:\", ans1)\n",
    "print(\"Garret is:\", ans2)\n",
    "print(\"Cassey is:\", ans3)\n",
    "print(\"Susanne is:\", ans4)\n",
    "\n",
    "classifier.show_most_informative_features(5)\n",
    "print(\"The accuracy is:\", nltk.classify.accuracy(classifier, test_set))\n",
    "res_accuracy.append(nltk.classify.accuracy(classifier, test_set))\n"
   ]
  },
  {
   "cell_type": "code",
   "execution_count": 16,
   "id": "proved-colonial",
   "metadata": {},
   "outputs": [
    {
     "data": {
      "text/plain": [
       "[73.8, 63.6]"
      ]
     },
     "execution_count": 16,
     "metadata": {},
     "output_type": "execute_result"
    }
   ],
   "source": [
    "Res_Percent = [round(my_num*100, 2) for my_num in res_accuracy]\n",
    "Res_Percent"
   ]
  },
  {
   "cell_type": "code",
   "execution_count": 12,
   "id": "overhead-basketball",
   "metadata": {},
   "outputs": [
    {
     "data": {
      "image/png": "[encoded data removed]",
      "text/plain": [
       "<Figure size 432x288 with 1 Axes>"
      ]
     },
     "metadata": {
      "needs_background": "light"
     },
     "output_type": "display_data"
    }
   ],
   "source": [
    "Sample_Colors = ['green','teal']\n",
    "def addlabels(x,y):\n",
    "    for i in range(len(x)):\n",
    "        plt.text(i, y[i]//2, y[i], ha = 'center')\n",
    "\n",
    "fig, ax = plt.subplots() \n",
    "plt.bar([0, 1], Res_Percent, color=Sample_Colors)\n",
    "labels = ['Last letter', 'Middle character']\n",
    "plt.xticks([0, 1], labels)\n",
    "plt.ylabel('Accuracy in %')\n",
    "plt.xlabel('Features')\n",
    "addlabels([0, 1], Res_Percent)\n",
    "plt.show()"
   ]
  },
  {
   "cell_type": "code",
   "execution_count": null,
   "id": "blocked-think",
   "metadata": {},
   "outputs": [],
   "source": []
  }
 ],
 "metadata": {
  "kernelspec": {
   "display_name": "Python 3",
   "language": "python",
   "name": "python3"
  },
  "language_info": {
   "codemirror_mode": {
    "name": "ipython",
    "version": 3
   },
   "file_extension": ".py",
   "mimetype": "text/x-python",
   "name": "python",
   "nbconvert_exporter": "python",
   "pygments_lexer": "ipython3",
   "version": "3.8.8"
  }
 },
 "nbformat": 4,
 "nbformat_minor": 5
}
